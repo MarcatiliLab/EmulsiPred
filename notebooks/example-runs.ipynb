{
 "cells": [
  {
   "cell_type": "code",
   "execution_count": 1,
   "id": "42ab6b19",
   "metadata": {},
   "outputs": [],
   "source": [
    "%load_ext autoreload\n",
    "%autoreload 2\n",
    "\n",
    "from EmulsiPred import EmulsiPred"
   ]
  },
  {
   "cell_type": "markdown",
   "id": "6ed7fbd9-c903-4cbf-afa7-c481162650bb",
   "metadata": {},
   "source": [
    "## List of peptides"
   ]
  },
  {
   "cell_type": "code",
   "execution_count": 2,
   "id": "9f7ad336",
   "metadata": {},
   "outputs": [],
   "source": [
    "peptides = ['ALGPLVTG', \n",
    "             'MNIFEMLRI',\n",
    "             'AGFTNSLRML'\n",
    "            ]"
   ]
  },
  {
   "cell_type": "code",
   "execution_count": 3,
   "id": "2a2362c8",
   "metadata": {},
   "outputs": [],
   "source": [
    "EmulsiPred(sequences=peptides, \n",
    "           netsurfp_results=False, \n",
    "           peptides=True,\n",
    "           out_folder='../reports/peptides', \n",
    "           seen_in_N_seqs=1, \n",
    "           lowest_score=2, \n",
    "          )"
   ]
  },
  {
   "cell_type": "markdown",
   "id": "efaf72e1-6fa1-4c38-81d6-5e6c5dca4f77",
   "metadata": {},
   "source": [
    "## FASTA input"
   ]
  },
  {
   "cell_type": "code",
   "execution_count": 4,
   "id": "781d2ee1-d838-44ef-8b2f-4e77c2f7e779",
   "metadata": {},
   "outputs": [],
   "source": [
    "EmulsiPred(sequences=\"../data/fasta_example.fsa\", \n",
    "           netsurfp_results=False, \n",
    "           peptides=False,\n",
    "           out_folder='../reports/fasta', \n",
    "           seen_in_N_seqs=1, \n",
    "           lowest_score=2, \n",
    "          )"
   ]
  },
  {
   "cell_type": "markdown",
   "id": "aa4dd1df-7b56-403f-9135-d2a67646bb47",
   "metadata": {},
   "source": [
    "## NetSurfP input"
   ]
  },
  {
   "cell_type": "markdown",
   "id": "35f150b1-1175-4366-8ea5-0f15556aff54",
   "metadata": {},
   "source": [
    "#### Handling netsurfp2 txt output files"
   ]
  },
  {
   "cell_type": "code",
   "execution_count": 5,
   "id": "bf8c4e8b-f207-4f3d-a2f6-84198b4f09d1",
   "metadata": {},
   "outputs": [],
   "source": [
    "EmulsiPred(sequences=\"../data/netsurfp2_example.txt\", \n",
    "           netsurfp_results=True, \n",
    "           peptides=False,\n",
    "           out_folder='../reports/netsurfp2', \n",
    "           seen_in_N_seqs=1, \n",
    "           lowest_score=2, \n",
    "          )"
   ]
  },
  {
   "cell_type": "markdown",
   "id": "0988f259-727d-43d9-bbc2-2e0ec4852b29",
   "metadata": {},
   "source": [
    "#### Handling netsurfp3 csv output files"
   ]
  },
  {
   "cell_type": "code",
   "execution_count": 6,
   "id": "4ee17e2f-df00-470c-a896-b76bafb96714",
   "metadata": {},
   "outputs": [],
   "source": [
    "EmulsiPred(sequences= \"../data/netsurfp3_example.csv\", \n",
    "           netsurfp_results=True, \n",
    "           peptides=False,\n",
    "           out_folder='../reports/netsurfp3', \n",
    "           seen_in_N_seqs=1, \n",
    "           lowest_score=2, \n",
    "          )"
   ]
  }
 ],
 "metadata": {
  "kernelspec": {
   "display_name": "Python [conda env:emulsipred]",
   "language": "python",
   "name": "conda-env-emulsipred-py"
  },
  "language_info": {
   "codemirror_mode": {
    "name": "ipython",
    "version": 3
   },
   "file_extension": ".py",
   "mimetype": "text/x-python",
   "name": "python",
   "nbconvert_exporter": "python",
   "pygments_lexer": "ipython3",
   "version": "3.11.0"
  }
 },
 "nbformat": 4,
 "nbformat_minor": 5
}
